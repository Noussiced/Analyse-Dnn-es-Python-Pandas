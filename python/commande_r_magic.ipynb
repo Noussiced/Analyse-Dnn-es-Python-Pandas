{
  "cells": [
    {
      "cell_type": "markdown",
      "metadata": {
        "colab_type": "text",
        "id": "EnyONbNhCqSK"
      },
      "source": [
        "# **Utiliser R et Python dans le même carnet de notes**\n",
        "\n",
        "Dans ce carnet Jupyter, je vous montrerai comment utiliser R et Python dans le même carnet.\n",
        "\n",
        "---"
      ]
    },
    {
      "cell_type": "code",
      "execution_count": null,
      "metadata": {
        "colab": {},
        "colab_type": "code",
        "id": "2h-2I4CviFCR"
      },
      "outputs": [],
      "source": [
        "# activer R magic\n",
        "%load_ext rpy2.ipython"
      ]
    },
    {
      "cell_type": "markdown",
      "metadata": {
        "colab_type": "text",
        "id": "FftFvPLNiZME"
      },
      "source": [
        "## Python"
      ]
    },
    {
      "cell_type": "code",
      "execution_count": null,
      "metadata": {
        "colab": {},
        "colab_type": "code",
        "id": "3hPnRI2piJM3"
      },
      "outputs": [],
      "source": [
        "import pandas as pd"
      ]
    },
    {
      "cell_type": "code",
      "execution_count": null,
      "metadata": {
        "colab": {},
        "colab_type": "code",
        "id": "yNKM70-ZiPcg"
      },
      "outputs": [],
      "source": [
        "x <- 42\n",
        "print(x)"
      ]
    },
    {
      "cell_type": "markdown",
      "metadata": {
        "colab_type": "text",
        "id": "dtkChhxpiWEd"
      },
      "source": [
        "## R"
      ]
    },
    {
      "cell_type": "code",
      "execution_count": null,
      "metadata": {
        "colab": {},
        "colab_type": "code",
        "id": "ozqbZ3lviTPj"
      },
      "outputs": [],
      "source": [
        "%%R\n",
        "x <- 42\n",
        "print(x)"
      ]
    },
    {
      "cell_type": "code",
      "execution_count": null,
      "metadata": {
        "colab": {},
        "colab_type": "code",
        "id": "napTAYyXiU8r"
      },
      "outputs": [],
      "source": [
        "%%R\n",
        "install.packages('caret')\n",
        "install.packages('mlbench')"
      ]
    },
    {
      "cell_type": "code",
      "execution_count": null,
      "metadata": {
        "colab": {},
        "colab_type": "code",
        "id": "4eB_IbK4kztb"
      },
      "outputs": [],
      "source": [
        "%%R\n",
        "install.packages('mlbench')"
      ]
    },
    {
      "cell_type": "code",
      "execution_count": null,
      "metadata": {
        "colab": {},
        "colab_type": "code",
        "id": "Bl0feNEUi-Jk"
      },
      "outputs": [],
      "source": [
        "%%R\n",
        "library(caret)"
      ]
    },
    {
      "cell_type": "code",
      "execution_count": null,
      "metadata": {
        "colab": {},
        "colab_type": "code",
        "id": "zY7WFnrSj4Mr"
      },
      "outputs": [],
      "source": [
        "# Importation de bibliothèques\n",
        "library(mlbench) # Contient plusieurs ensembles de données de référence (en particulier l'ensemble de données sur le logement à Boston).\n",
        "library(caret) # Package pour les algorithmes d'apprentissage automatique / CARET signifie Classification And REgression Training\n",
        "\n",
        "# Importation de l'ensemble de données sur le logement à Boston\n",
        "data(BostonHousing)\n",
        "\n",
        "head(BostonHousing)\n",
        "\n",
        "# Vérifier s'il y a des données manquantes\n",
        "sum(is.na(BostonHousing))\n",
        "\n",
        "# Pour obtenir un modèle reproductible, définir le numéro de la graine aléatoire\n",
        "set.seed(100)\n",
        "\n",
        "# Effectue un découpage aléatoire stratifié de l'ensemble des données\n",
        "TrainingIndex <- createDataPartition(BostonHousing$medv, p=0.8, list = FALSE)\n",
        "TrainingSet <- BostonHousing[TrainingIndex,] # Training Set\n",
        "TestingSet <- BostonHousing[-TrainingIndex,] # Test Set\n",
        "\n",
        "\n",
        "# Construire un modèle de formation\n",
        "Model <- train(medv ~ ., data = TrainingSet,\n",
        "               method = \"lm\",\n",
        "               na.action = na.omit,\n",
        "               preProcess=c(\"scale\",\"center\"),\n",
        "               trControl= trainControl(method=\"none\")\n",
        ")\n",
        "\n",
        "# Appliquer le modèle de prédiction\n",
        "Model.training <-predict(Model, TrainingSet) # Appliquer le modèle pour prédire sur l'ensemble d'entraînement\n",
        "Model.testing <-predict(Model, TestingSet) # Appliquer le modèle pour prédire sur l'ensemble de test\n",
        "\n",
        "# Performance du modèle (Affiche le nuage de points et les mesures de performance)\n",
        "# Nuage de points de l'ensemble d'entraînement\n",
        "plot(TrainingSet$medv,Model.training, col = \"blue\" )\n",
        "plot(TestingSet$medv,Model.testing, col = \"blue\" )\n"
      ]
    },
    {
      "cell_type": "code",
      "execution_count": null,
      "metadata": {
        "colab": {},
        "colab_type": "code",
        "id": "Q6A7bOvbll8D"
      },
      "outputs": [],
      "source": []
    }
  ],
  "metadata": {
    "colab": {
      "name": "r-magic-command.ipynb",
      "provenance": []
    },
    "kernelspec": {
      "display_name": "Python 3",
      "name": "python3"
    }
  },
  "nbformat": 4,
  "nbformat_minor": 0
}
